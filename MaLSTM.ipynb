{
 "cells": [
  {
   "cell_type": "markdown",
   "metadata": {},
   "source": [
    "# MaLSTM on Kaggle's Quora Question Pairs"
   ]
  },
  {
   "cell_type": "markdown",
   "metadata": {},
   "source": [
    "This notebook is about implementing the MaLSTM model (http://www.mit.edu/~jonasm/info/MuellerThyagarajan_AAAI16.pdf) on Kaggle's Quora Question Pairs data.\n",
    "\n",
    "Blog post containing a broader explanation about the network can be found in the following link https://medium.com/@eliorcohen/implementing-malstm-on-kaggles-quora-question-pairs-competition-8b31b0b16a07\n"
   ]
  },
  {
   "cell_type": "markdown",
   "metadata": {},
   "source": [
    "# CODE"
   ]
  },
  {
   "cell_type": "markdown",
   "metadata": {},
   "source": [
    "First, lets import all the necessary packages"
   ]
  },
  {
   "cell_type": "code",
   "execution_count": 1,
   "metadata": {},
   "outputs": [
    {
     "name": "stderr",
     "output_type": "stream",
     "text": [
      "/home/zhen/anaconda2/lib/python2.7/site-packages/h5py/__init__.py:36: FutureWarning: Conversion of the second argument of issubdtype from `float` to `np.floating` is deprecated. In future, it will be treated as `np.float64 == np.dtype(float).type`.\n",
      "  from ._conv import register_converters as _register_converters\n",
      "Using TensorFlow backend.\n"
     ]
    }
   ],
   "source": [
    "from time import time\n",
    "import pandas as pd\n",
    "import numpy as np\n",
    "from gensim.models import KeyedVectors\n",
    "import re\n",
    "from nltk.corpus import stopwords\n",
    "from sklearn.model_selection import train_test_split\n",
    "import matplotlib.pyplot as plt\n",
    "import seaborn as sns\n",
    "\n",
    "import itertools\n",
    "import datetime\n",
    "\n",
    "from keras.preprocessing.sequence import pad_sequences\n",
    "from keras.models import Model,load_model\n",
    "from keras.layers import Input, Embedding, LSTM, Lambda\n",
    "import keras.backend as K\n",
    "from keras.optimizers import Adadelta\n",
    "from keras.callbacks import ModelCheckpoint\n",
    "from keras.models import load_model\n",
    "\n",
    "\n",
    "\n",
    "#coding=utf-8\n",
    "import re\n",
    "import pickle\n"
   ]
  },
  {
   "cell_type": "markdown",
   "metadata": {},
   "source": [
    "Global variables"
   ]
  },
  {
   "cell_type": "code",
   "execution_count": 2,
   "metadata": {},
   "outputs": [],
   "source": [
    "# File paths\n",
    "TRAIN_CSV = 'input/cleaned_train.csv'\n",
    "TEST_CSV = 'input/cleaned_test.csv'\n",
    "EMBEDDING_FILE = 'input/embedding.pkl'\n",
    "# MODEL_SAVING_DIR = '~/Desktop/CIKM/files/Medium'"
   ]
  },
  {
   "cell_type": "code",
   "execution_count": 6,
   "metadata": {},
   "outputs": [
    {
     "name": "stdout",
     "output_type": "stream",
     "text": [
      "CPU times: user 105 ms, sys: 7.03 ms, total: 112 ms\n",
      "Wall time: 111 ms\n"
     ]
    }
   ],
   "source": [
    "%%time\n",
    "# Load training and test set\n",
    "train_df = pd.read_csv(TRAIN_CSV)\n",
    "test_df = pd.read_csv(TEST_CSV)\n",
    "with open(EMBEDDING_FILE, 'rb') as handle:\n",
    "    word2vec = pickle.load(handle)"
   ]
  },
  {
   "cell_type": "code",
   "execution_count": 11,
   "metadata": {
    "scrolled": true
   },
   "outputs": [
    {
     "name": "stdout",
     "output_type": "stream",
     "text": [
      "<class 'pandas.core.frame.DataFrame'>\n",
      "RangeIndex: 21400 entries, 0 to 21399\n",
      "Data columns (total 3 columns):\n",
      "s1       21400 non-null object\n",
      "s2       21400 non-null object\n",
      "label    21400 non-null int64\n",
      "dtypes: int64(1), object(2)\n",
      "memory usage: 501.6+ KB\n",
      "None\n",
      "<class 'pandas.core.frame.DataFrame'>\n",
      "RangeIndex: 5000 entries, 0 to 4999\n",
      "Data columns (total 2 columns):\n",
      "s1    5000 non-null object\n",
      "s2    5000 non-null object\n",
      "dtypes: object(2)\n",
      "memory usage: 78.2+ KB\n",
      "None\n"
     ]
    }
   ],
   "source": [
    "print train_df.info()\n",
    "print test_df.info()"
   ]
  },
  {
   "cell_type": "code",
   "execution_count": 8,
   "metadata": {
    "scrolled": true
   },
   "outputs": [
    {
     "data": {
      "text/plain": [
       "(300,)"
      ]
     },
     "execution_count": 8,
     "metadata": {},
     "output_type": "execute_result"
    }
   ],
   "source": [
    "word2vec['escribe'].shape"
   ]
  },
  {
   "cell_type": "markdown",
   "metadata": {},
   "source": [
    "Create embedding matrix"
   ]
  },
  {
   "cell_type": "code",
   "execution_count": 9,
   "metadata": {},
   "outputs": [
    {
     "name": "stderr",
     "output_type": "stream",
     "text": [
      "/home/zhen/anaconda2/lib/python2.7/site-packages/ipykernel_launcher.py:74: FutureWarning: set_value is deprecated and will be removed in a future release. Please use .at[] or .iat[] accessors instead\n"
     ]
    }
   ],
   "source": [
    "\n",
    "\n",
    "# stops = set(stopwords.words('english'))\n",
    "\n",
    "# def text_to_word_list(text):\n",
    "#     ''' Pre process and convert texts to a list of words '''\n",
    "#     text = str(text)\n",
    "#     text = text.lower()\n",
    "\n",
    "#     # Clean the text\n",
    "#     text = re.sub(r\"[^A-Za-z0-9^,!.\\/'+-=]\", \" \", text)\n",
    "#     text = re.sub(r\"what's\", \"what is \", text)\n",
    "#     text = re.sub(r\"\\'s\", \" \", text)\n",
    "#     text = re.sub(r\"\\'ve\", \" have \", text)\n",
    "#     text = re.sub(r\"can't\", \"cannot \", text)\n",
    "#     text = re.sub(r\"n't\", \" not \", text)\n",
    "#     text = re.sub(r\"i'm\", \"i am \", text)\n",
    "#     text = re.sub(r\"\\'re\", \" are \", text)\n",
    "#     text = re.sub(r\"\\'d\", \" would \", text)\n",
    "#     text = re.sub(r\"\\'ll\", \" will \", text)\n",
    "#     text = re.sub(r\",\", \" \", text)\n",
    "#     text = re.sub(r\"\\.\", \" \", text)\n",
    "#     text = re.sub(r\"!\", \" ! \", text)\n",
    "#     text = re.sub(r\"\\/\", \" \", text)\n",
    "#     text = re.sub(r\"\\^\", \" ^ \", text)\n",
    "#     text = re.sub(r\"\\+\", \" + \", text)\n",
    "#     text = re.sub(r\"\\-\", \" - \", text)\n",
    "#     text = re.sub(r\"\\=\", \" = \", text)\n",
    "#     text = re.sub(r\"'\", \" \", text)\n",
    "#     text = re.sub(r\"(\\d+)(k)\", r\"\\g<1>000\", text)\n",
    "#     text = re.sub(r\":\", \" : \", text)\n",
    "#     text = re.sub(r\" e g \", \" eg \", text)\n",
    "#     text = re.sub(r\" b g \", \" bg \", text)\n",
    "#     text = re.sub(r\" u s \", \" american \", text)\n",
    "#     text = re.sub(r\"\\0s\", \"0\", text)\n",
    "#     text = re.sub(r\" 9 11 \", \"911\", text)\n",
    "#     text = re.sub(r\"e - mail\", \"email\", text)\n",
    "#     text = re.sub(r\"j k\", \"jk\", text)\n",
    "#     text = re.sub(r\"\\s{2,}\", \" \", text)\n",
    "\n",
    "#     text = text.split()\n",
    "\n",
    "#     return text\n",
    "\n",
    "# Prepare embedding\n",
    "vocabulary = dict()\n",
    "inverse_vocabulary = ['<unk>']  # '<unk>' will never be used, it is only a placeholder for the [0, 0, ....0] embedding\n",
    "\n",
    "questions_cols = ['s1', 's2']\n",
    "\n",
    "# Iterate over the questions only of both training and test datasets\n",
    "for dataset in [train_df, test_df]:\n",
    "    for index, row in dataset.iterrows():\n",
    "\n",
    "        # Iterate through the text of both questions of the row\n",
    "        for question in questions_cols:\n",
    "\n",
    "            q2n = []  # q2n -> question numbers representation\n",
    "            text = str(row[question])\n",
    "            for word in text.split():\n",
    "\n",
    "#                 # Check for unwanted words\n",
    "#                 if word in stops and word not in word2vec.vocab:\n",
    "#                     continue\n",
    "\n",
    "                if word not in vocabulary:\n",
    "                    vocabulary[word] = len(inverse_vocabulary)\n",
    "                    q2n.append(len(inverse_vocabulary))\n",
    "                    inverse_vocabulary.append(word)\n",
    "                else:\n",
    "                    q2n.append(vocabulary[word])\n",
    "\n",
    "            # Replace questions as word to question as number representation\n",
    "            dataset.set_value(index, question, q2n)\n",
    "            \n",
    "embedding_dim = 300\n",
    "embeddings = 1 * np.random.randn(len(vocabulary) + 1, embedding_dim)  # This will be the embedding matrix\n",
    "embeddings[0] = 0  # So that the padding will be ignored\n",
    "\n",
    "# Build the embedding matrix\n",
    "for word, index in vocabulary.items():\n",
    "    if word in word2vec:\n",
    "        embeddings[index] = word2vec[word]\n",
    "\n",
    "# del word2vec"
   ]
  },
  {
   "cell_type": "code",
   "execution_count": 19,
   "metadata": {},
   "outputs": [
    {
     "data": {
      "text/plain": [
       "5837"
      ]
     },
     "execution_count": 19,
     "metadata": {},
     "output_type": "execute_result"
    }
   ],
   "source": [
    "len(word2vec)"
   ]
  },
  {
   "cell_type": "code",
   "execution_count": 18,
   "metadata": {},
   "outputs": [
    {
     "data": {
      "text/plain": [
       "6418"
      ]
     },
     "execution_count": 18,
     "metadata": {},
     "output_type": "execute_result"
    }
   ],
   "source": [
    "len(vocabulary)"
   ]
  },
  {
   "cell_type": "code",
   "execution_count": 10,
   "metadata": {},
   "outputs": [
    {
     "data": {
      "text/plain": [
       "(6419, 300)"
      ]
     },
     "execution_count": 10,
     "metadata": {},
     "output_type": "execute_result"
    }
   ],
   "source": [
    "embeddings.shape"
   ]
  },
  {
   "cell_type": "code",
   "execution_count": 3,
   "metadata": {},
   "outputs": [],
   "source": [
    "import pickle\n",
    "\n",
    "\n",
    "# with open('train_df.pickle', 'wb') as handle:\n",
    "#     pickle.dump(train_df, handle, protocol=pickle.HIGHEST_PROTOCOL)\n",
    "# import pickle\n",
    "\n",
    "\n",
    "# with open('test_df.pickle', 'wb') as handle:\n",
    "#     pickle.dump(test_df, handle, protocol=pickle.HIGHEST_PROTOCOL)\n",
    "    \n",
    "# with open('embeddings.pickle', 'wb') as handle:\n",
    "#     pickle.dump(embeddings, handle, protocol=pickle.HIGHEST_PROTOCOL)\n",
    "\n",
    "\n",
    "with open('train_df.pickle', 'rb') as handle:\n",
    "    train_df = pickle.load(handle)\n",
    "\n",
    "with open('test_df.pickle', 'rb') as handle:\n",
    "    test_df = pickle.load(handle)\n",
    "\n",
    "with open('embeddings.pickle', 'rb') as handle:\n",
    "    embeddings = pickle.load(handle)"
   ]
  },
  {
   "cell_type": "markdown",
   "metadata": {},
   "source": [
    "Prepare training and validation data"
   ]
  },
  {
   "cell_type": "code",
   "execution_count": 20,
   "metadata": {},
   "outputs": [
    {
     "name": "stdout",
     "output_type": "stream",
     "text": [
      "55\n"
     ]
    }
   ],
   "source": [
    "max_seq_length = max(train_df.s1.map(lambda x: len(x)).max(),\n",
    "                     train_df.s2.map(lambda x: len(x)).max(),\n",
    "                     test_df.s1.map(lambda x: len(x)).max(),\n",
    "                     test_df.s2.map(lambda x: len(x)).max())\n",
    "\n",
    "# Split to train validation\n",
    "# validation_size = 40000\n",
    "# training_size = len(train_df) - validation_size\n",
    "\n",
    "X = train_df[questions_cols]\n",
    "Y = train_df['label']\n",
    "\n",
    "X_train, X_validation, Y_train, Y_validation = train_test_split(X, Y, test_size=0.2)\n",
    "\n",
    "# Split to dicts\n",
    "X_train = {'left': X_train.s1, 'right': X_train.s2}\n",
    "X_validation = {'left': X_validation.s1, 'right': X_validation.s2}\n",
    "X_test = {'left': test_df.s1, 'right': test_df.s2}\n",
    "\n",
    "# Convert labels to their numpy representations\n",
    "Y_train = Y_train.values\n",
    "Y_validation = Y_validation.values\n",
    "\n",
    "# Zero padding\n",
    "for dataset, side in itertools.product([X_train, X_validation, X_test], ['left', 'right']):\n",
    "    dataset[side] = pad_sequences(dataset[side], maxlen=max_seq_length)\n",
    "\n",
    "# Make sure everything is ok\n",
    "assert X_train['left'].shape == X_train['right'].shape\n",
    "assert len(X_train['left']) == len(Y_train)\n",
    "\n",
    "print max_seq_length"
   ]
  },
  {
   "cell_type": "markdown",
   "metadata": {},
   "source": [
    "Build the model"
   ]
  },
  {
   "cell_type": "code",
   "execution_count": 22,
   "metadata": {
    "scrolled": true
   },
   "outputs": [
    {
     "name": "stderr",
     "output_type": "stream",
     "text": [
      "/home/zhen/anaconda2/lib/python2.7/site-packages/ipykernel_launcher.py:43: UserWarning: The `nb_epoch` argument in `fit` has been renamed `epochs`.\n"
     ]
    },
    {
     "name": "stdout",
     "output_type": "stream",
     "text": [
      "Train on 17120 samples, validate on 4280 samples\n",
      "Epoch 1/50\n",
      "17120/17120 [==============================] - 20s 1ms/step - loss: 0.1619 - acc: 0.7839 - binary_crossentropy: 0.5277 - val_loss: 0.1505 - val_acc: 0.7883 - val_binary_crossentropy: 0.4734\n",
      "Epoch 2/50\n",
      "17120/17120 [==============================] - 19s 1ms/step - loss: 0.1369 - acc: 0.8107 - binary_crossentropy: 0.4406 - val_loss: 0.1409 - val_acc: 0.8033 - val_binary_crossentropy: 0.4483 loss: 0.1368 - acc: 0.8109 - binary_crossentropy: 0.43\n",
      "Epoch 3/50\n",
      "17120/17120 [==============================] - 20s 1ms/step - loss: 0.1280 - acc: 0.8227 - binary_crossentropy: 0.4181 - val_loss: 0.1369 - val_acc: 0.8098 - val_binary_crossentropy: 0.4378\n",
      "Epoch 4/50\n",
      "17120/17120 [==============================] - 19s 1ms/step - loss: 0.1225 - acc: 0.8311 - binary_crossentropy: 0.4043 - val_loss: 0.1330 - val_acc: 0.8168 - val_binary_crossentropy: 0.4283\n",
      "Epoch 5/50\n",
      "17120/17120 [==============================] - 20s 1ms/step - loss: 0.1185 - acc: 0.8376 - binary_crossentropy: 0.3940 - val_loss: 0.1312 - val_acc: 0.8201 - val_binary_crossentropy: 0.4242\n",
      "Epoch 6/50\n",
      "17120/17120 [==============================] - 19s 1ms/step - loss: 0.1153 - acc: 0.8424 - binary_crossentropy: 0.3860 - val_loss: 0.1292 - val_acc: 0.8250 - val_binary_crossentropy: 0.4195\n",
      "Epoch 7/50\n",
      "17120/17120 [==============================] - 20s 1ms/step - loss: 0.1127 - acc: 0.8474 - binary_crossentropy: 0.3793 - val_loss: 0.1282 - val_acc: 0.8257 - val_binary_crossentropy: 0.4166\n",
      "Epoch 8/50\n",
      "17120/17120 [==============================] - 19s 1ms/step - loss: 0.1106 - acc: 0.8503 - binary_crossentropy: 0.3740 - val_loss: 0.1269 - val_acc: 0.8276 - val_binary_crossentropy: 0.4130\n",
      "Epoch 9/50\n",
      "17120/17120 [==============================] - 19s 1ms/step - loss: 0.1086 - acc: 0.8536 - binary_crossentropy: 0.3690 - val_loss: 0.1259 - val_acc: 0.8290 - val_binary_crossentropy: 0.4100\n",
      "Epoch 10/50\n",
      "17120/17120 [==============================] - 20s 1ms/step - loss: 0.1069 - acc: 0.8562 - binary_crossentropy: 0.3646 - val_loss: 0.1254 - val_acc: 0.8311 - val_binary_crossentropy: 0.4090\n",
      "Epoch 11/50\n",
      "17120/17120 [==============================] - 19s 1ms/step - loss: 0.1053 - acc: 0.8594 - binary_crossentropy: 0.3605 - val_loss: 0.1250 - val_acc: 0.8280 - val_binary_crossentropy: 0.4079\n",
      "Epoch 12/50\n",
      "17120/17120 [==============================] - 19s 1ms/step - loss: 0.1040 - acc: 0.8610 - binary_crossentropy: 0.3570 - val_loss: 0.1234 - val_acc: 0.8336 - val_binary_crossentropy: 0.4038\n",
      "Epoch 13/50\n",
      "17120/17120 [==============================] - 20s 1ms/step - loss: 0.1027 - acc: 0.8630 - binary_crossentropy: 0.3538 - val_loss: 0.1227 - val_acc: 0.8325 - val_binary_crossentropy: 0.4015\n",
      "Epoch 14/50\n",
      "17120/17120 [==============================] - 20s 1ms/step - loss: 0.1016 - acc: 0.8639 - binary_crossentropy: 0.3506 - val_loss: 0.1220 - val_acc: 0.8360 - val_binary_crossentropy: 0.4010\n",
      "Epoch 15/50\n",
      "17120/17120 [==============================] - 20s 1ms/step - loss: 0.1005 - acc: 0.8662 - binary_crossentropy: 0.3483 - val_loss: 0.1218 - val_acc: 0.8346 - val_binary_crossentropy: 0.4002\n",
      "Epoch 16/50\n",
      "17120/17120 [==============================] - 20s 1ms/step - loss: 0.0995 - acc: 0.8669 - binary_crossentropy: 0.3451 - val_loss: 0.1209 - val_acc: 0.8395 - val_binary_crossentropy: 0.3988\n",
      "Epoch 17/50\n",
      "17120/17120 [==============================] - 20s 1ms/step - loss: 0.0985 - acc: 0.8704 - binary_crossentropy: 0.3430 - val_loss: 0.1203 - val_acc: 0.8374 - val_binary_crossentropy: 0.3969\n",
      "Epoch 18/50\n",
      "17120/17120 [==============================] - 20s 1ms/step - loss: 0.0977 - acc: 0.8714 - binary_crossentropy: 0.3408 - val_loss: 0.1196 - val_acc: 0.8376 - val_binary_crossentropy: 0.3943\n",
      "Epoch 19/50\n",
      "17120/17120 [==============================] - 20s 1ms/step - loss: 0.0969 - acc: 0.8724 - binary_crossentropy: 0.3385 - val_loss: 0.1195 - val_acc: 0.8379 - val_binary_crossentropy: 0.3936\n",
      "Epoch 20/50\n",
      "17120/17120 [==============================] - 19s 1ms/step - loss: 0.0960 - acc: 0.8735 - binary_crossentropy: 0.3361 - val_loss: 0.1190 - val_acc: 0.8400 - val_binary_crossentropy: 0.3932\n",
      "Epoch 21/50\n",
      "17120/17120 [==============================] - 20s 1ms/step - loss: 0.0953 - acc: 0.8747 - binary_crossentropy: 0.3343 - val_loss: 0.1183 - val_acc: 0.8383 - val_binary_crossentropy: 0.3912\n",
      "Epoch 22/50\n",
      "17120/17120 [==============================] - 20s 1ms/step - loss: 0.0945 - acc: 0.8765 - binary_crossentropy: 0.3324 - val_loss: 0.1181 - val_acc: 0.8362 - val_binary_crossentropy: 0.3902\n",
      "Epoch 23/50\n",
      "17120/17120 [==============================] - 19s 1ms/step - loss: 0.0938 - acc: 0.8775 - binary_crossentropy: 0.3305 - val_loss: 0.1179 - val_acc: 0.8386 - val_binary_crossentropy: 0.3900\n",
      "Epoch 24/50\n",
      "17120/17120 [==============================] - 19s 1ms/step - loss: 0.0931 - acc: 0.8791 - binary_crossentropy: 0.3285 - val_loss: 0.1177 - val_acc: 0.8397 - val_binary_crossentropy: 0.3889\n",
      "Epoch 25/50\n",
      "17120/17120 [==============================] - 20s 1ms/step - loss: 0.0924 - acc: 0.8805 - binary_crossentropy: 0.3268 - val_loss: 0.1170 - val_acc: 0.8402 - val_binary_crossentropy: 0.3876\n",
      "Epoch 26/50\n",
      "17120/17120 [==============================] - 20s 1ms/step - loss: 0.0917 - acc: 0.8825 - binary_crossentropy: 0.3252 - val_loss: 0.1172 - val_acc: 0.8371 - val_binary_crossentropy: 0.3874\n",
      "Epoch 27/50\n",
      "17120/17120 [==============================] - 20s 1ms/step - loss: 0.0912 - acc: 0.8818 - binary_crossentropy: 0.3236 - val_loss: 0.1164 - val_acc: 0.8388 - val_binary_crossentropy: 0.3859\n",
      "Epoch 28/50\n",
      "17120/17120 [==============================] - 20s 1ms/step - loss: 0.0906 - acc: 0.8835 - binary_crossentropy: 0.3221 - val_loss: 0.1162 - val_acc: 0.8376 - val_binary_crossentropy: 0.3848\n",
      "Epoch 29/50\n",
      "17120/17120 [==============================] - 20s 1ms/step - loss: 0.0900 - acc: 0.8849 - binary_crossentropy: 0.3205 - val_loss: 0.1169 - val_acc: 0.8376 - val_binary_crossentropy: 0.3862\n",
      "Epoch 30/50\n",
      "17120/17120 [==============================] - 20s 1ms/step - loss: 0.0894 - acc: 0.8869 - binary_crossentropy: 0.3190 - val_loss: 0.1155 - val_acc: 0.8411 - val_binary_crossentropy: 0.3823\n",
      "Epoch 31/50\n",
      "17120/17120 [==============================] - 20s 1ms/step - loss: 0.0889 - acc: 0.8879 - binary_crossentropy: 0.3178 - val_loss: 0.1156 - val_acc: 0.8390 - val_binary_crossentropy: 0.3825\n",
      "Epoch 32/50\n",
      "17120/17120 [==============================] - 19s 1ms/step - loss: 0.0883 - acc: 0.8871 - binary_crossentropy: 0.3156 - val_loss: 0.1148 - val_acc: 0.8451 - val_binary_crossentropy: 0.3818\n",
      "Epoch 33/50\n",
      "17120/17120 [==============================] - 19s 1ms/step - loss: 0.0879 - acc: 0.8890 - binary_crossentropy: 0.3151 - val_loss: 0.1148 - val_acc: 0.8449 - val_binary_crossentropy: 0.3819871 - acc: \n",
      "Epoch 34/50\n",
      "17120/17120 [==============================] - 19s 1ms/step - loss: 0.0874 - acc: 0.8901 - binary_crossentropy: 0.3135 - val_loss: 0.1145 - val_acc: 0.8453 - val_binary_crossentropy: 0.3817\n",
      "Epoch 35/50\n",
      "17120/17120 [==============================] - 19s 1ms/step - loss: 0.0869 - acc: 0.8900 - binary_crossentropy: 0.3121 - val_loss: 0.1141 - val_acc: 0.8467 - val_binary_crossentropy: 0.3807\n",
      "Epoch 36/50\n",
      "17120/17120 [==============================] - 19s 1ms/step - loss: 0.0864 - acc: 0.8918 - binary_crossentropy: 0.3111 - val_loss: 0.1137 - val_acc: 0.8442 - val_binary_crossentropy: 0.3789\n",
      "Epoch 37/50\n",
      "17120/17120 [==============================] - 19s 1ms/step - loss: 0.0859 - acc: 0.8925 - binary_crossentropy: 0.3097 - val_loss: 0.1142 - val_acc: 0.8446 - val_binary_crossentropy: 0.3801\n",
      "Epoch 38/50\n",
      "17120/17120 [==============================] - 20s 1ms/step - loss: 0.0855 - acc: 0.8945 - binary_crossentropy: 0.3086 - val_loss: 0.1134 - val_acc: 0.8465 - val_binary_crossentropy: 0.3781\n",
      "Epoch 39/50\n",
      "17120/17120 [==============================] - 20s 1ms/step - loss: 0.0851 - acc: 0.8932 - binary_crossentropy: 0.3076 - val_loss: 0.1129 - val_acc: 0.8486 - val_binary_crossentropy: 0.3763\n",
      "Epoch 40/50\n",
      "17120/17120 [==============================] - 20s 1ms/step - loss: 0.0846 - acc: 0.8939 - binary_crossentropy: 0.3062 - val_loss: 0.1126 - val_acc: 0.8493 - val_binary_crossentropy: 0.3760\n",
      "Epoch 41/50\n"
     ]
    },
    {
     "name": "stdout",
     "output_type": "stream",
     "text": [
      "17120/17120 [==============================] - 20s 1ms/step - loss: 0.0842 - acc: 0.8960 - binary_crossentropy: 0.3052 - val_loss: 0.1125 - val_acc: 0.8465 - val_binary_crossentropy: 0.3760\n",
      "Epoch 42/50\n",
      "17120/17120 [==============================] - 20s 1ms/step - loss: 0.0839 - acc: 0.8963 - binary_crossentropy: 0.3040 - val_loss: 0.1122 - val_acc: 0.8495 - val_binary_crossentropy: 0.3756\n",
      "Epoch 43/50\n",
      "17120/17120 [==============================] - 19s 1ms/step - loss: 0.0835 - acc: 0.8971 - binary_crossentropy: 0.3034 - val_loss: 0.1118 - val_acc: 0.8507 - val_binary_crossentropy: 0.3745\n",
      "Epoch 44/50\n",
      "17120/17120 [==============================] - 19s 1ms/step - loss: 0.0830 - acc: 0.8970 - binary_crossentropy: 0.3021 - val_loss: 0.1125 - val_acc: 0.8472 - val_binary_crossentropy: 0.3749\n",
      "Epoch 45/50\n",
      "17120/17120 [==============================] - 19s 1ms/step - loss: 0.0827 - acc: 0.8974 - binary_crossentropy: 0.3012 - val_loss: 0.1117 - val_acc: 0.8526 - val_binary_crossentropy: 0.3744\n",
      "Epoch 46/50\n",
      "17120/17120 [==============================] - 19s 1ms/step - loss: 0.0822 - acc: 0.8996 - binary_crossentropy: 0.2999 - val_loss: 0.1114 - val_acc: 0.8526 - val_binary_crossentropy: 0.3730\n",
      "Epoch 47/50\n",
      "17120/17120 [==============================] - 19s 1ms/step - loss: 0.0820 - acc: 0.8992 - binary_crossentropy: 0.2992 - val_loss: 0.1113 - val_acc: 0.8512 - val_binary_crossentropy: 0.3726\n",
      "Epoch 48/50\n",
      "17120/17120 [==============================] - 19s 1ms/step - loss: 0.0816 - acc: 0.8998 - binary_crossentropy: 0.2983 - val_loss: 0.1115 - val_acc: 0.8502 - val_binary_crossentropy: 0.3723\n",
      "Epoch 49/50\n",
      "17120/17120 [==============================] - 19s 1ms/step - loss: 0.0813 - acc: 0.9011 - binary_crossentropy: 0.2971 - val_loss: 0.1108 - val_acc: 0.8537 - val_binary_crossentropy: 0.3716\n",
      "Epoch 50/50\n",
      "17120/17120 [==============================] - 19s 1ms/step - loss: 0.0809 - acc: 0.9006 - binary_crossentropy: 0.2961 - val_loss: 0.1103 - val_acc: 0.8521 - val_binary_crossentropy: 0.3703\n",
      "Training time finished.\n",
      "50 epochs in 0:16:18.641873\n"
     ]
    }
   ],
   "source": [
    "# Model variables\n",
    "n_hidden = 50\n",
    "gradient_clipping_norm = 1.25\n",
    "batch_size = 64\n",
    "n_epoch = 50\n",
    "\n",
    "def exponent_neg_manhattan_distance(left, right):\n",
    "    ''' Helper function for the similarity estimate of the LSTMs outputs'''\n",
    "    import keras.backend as K\n",
    "    return K.exp(-K.sum(K.abs(left-right), axis=1, keepdims=True))\n",
    "\n",
    "# The visible layer\n",
    "left_input = Input(shape=(max_seq_length,), dtype='int32')\n",
    "right_input = Input(shape=(max_seq_length,), dtype='int32')\n",
    "\n",
    "embedding_layer = Embedding(len(embeddings), embedding_dim, weights=[embeddings], input_length=max_seq_length, trainable=False)\n",
    "\n",
    "# Embedded version of the inputs\n",
    "encoded_left = embedding_layer(left_input)\n",
    "encoded_right = embedding_layer(right_input)\n",
    "\n",
    "# Since this is a siamese network, both sides share the same LSTM\n",
    "shared_lstm = LSTM(n_hidden)\n",
    "\n",
    "left_output = shared_lstm(encoded_left)\n",
    "right_output = shared_lstm(encoded_right)\n",
    "\n",
    "# Calculates the distance as defined by the MaLSTM model\n",
    "# malstm_distance = merge(mode=lambda x: exponent_neg_manhattan_distance(x[0], x[1]), output_shape=lambda x: (x[0][0], 1))([left_output, right_output])\n",
    "malstm_distance = Lambda(function=lambda x: exponent_neg_manhattan_distance(x[0], x[1]),output_shape=lambda x: (x[0][0], 1))([left_output, right_output])\n",
    "# Pack it all up into a model\n",
    "malstm = Model([left_input, right_input], [malstm_distance])\n",
    "\n",
    "# Adadelta optimizer, with gradient clipping by norm\n",
    "optimizer = Adadelta(clipnorm=gradient_clipping_norm)\n",
    "\n",
    "malstm.compile(loss='mean_squared_error', optimizer=optimizer, metrics=['accuracy','binary_crossentropy'])\n",
    "\n",
    "# Start training\n",
    "training_start_time = time()\n",
    "\n",
    "malstm_trained = malstm.fit([X_train['left'], X_train['right']], Y_train, batch_size=batch_size, nb_epoch=n_epoch,\n",
    "                            validation_data=([X_validation['left'], X_validation['right']], Y_validation))\n",
    "\n",
    "print(\"Training time finished.\\n{} epochs in {}\".format(n_epoch, datetime.timedelta(seconds=time()-training_start_time)))"
   ]
  },
  {
   "cell_type": "markdown",
   "metadata": {},
   "source": [
    "Plotting the results"
   ]
  },
  {
   "cell_type": "code",
   "execution_count": 54,
   "metadata": {},
   "outputs": [
    {
     "data": {
      "image/png": "[encoded data removed]",
      "text/plain": [
       "<Figure size 432x288 with 1 Axes>"
      ]
     },
     "metadata": {},
     "output_type": "display_data"
    },
    {
     "data": {
      "image/png": "[encoded data removed]",
      "text/plain": [
       "<Figure size 432x288 with 1 Axes>"
      ]
     },
     "metadata": {},
     "output_type": "display_data"
    },
    {
     "data": {
      "image/png": "[encoded data removed]",
      "text/plain": [
       "<Figure size 432x288 with 1 Axes>"
      ]
     },
     "metadata": {},
     "output_type": "display_data"
    }
   ],
   "source": [
    "# Plot accuracy\n",
    "plt.plot(malstm_trained.history['acc'])\n",
    "plt.plot(malstm_trained.history['val_acc'])\n",
    "plt.title('Model Accuracy')\n",
    "plt.ylabel('Accuracy')\n",
    "plt.xlabel('Epoch')\n",
    "plt.legend(['Train', 'Validation'], loc='upper left')\n",
    "plt.show()\n",
    "\n",
    "# Plot logloss\n",
    "plt.plot(malstm_trained.history['binary_crossentropy'])\n",
    "plt.plot(malstm_trained.history['val_binary_crossentropy'])\n",
    "plt.title('Model logloss')\n",
    "plt.ylabel('logloss')\n",
    "plt.xlabel('Epoch')\n",
    "plt.legend(['Train', 'Validation'], loc='upper left')\n",
    "plt.show()\n",
    "\n",
    "# Plot loss\n",
    "plt.plot(malstm_trained.history['loss'])\n",
    "plt.plot(malstm_trained.history['val_loss'])\n",
    "plt.title('Model Loss')\n",
    "plt.ylabel('Loss')\n",
    "plt.xlabel('Epoch')\n",
    "plt.legend(['Train', 'Validation'], loc='upper right')\n",
    "plt.show()"
   ]
  },
  {
   "cell_type": "code",
   "execution_count": null,
   "metadata": {},
   "outputs": [],
   "source": []
  },
  {
   "cell_type": "code",
   "execution_count": 39,
   "metadata": {
    "scrolled": true
   },
   "outputs": [
    {
     "name": "stderr",
     "output_type": "stream",
     "text": [
      "/home/zhen/anaconda2/lib/python2.7/site-packages/ipykernel_launcher.py:43: UserWarning: The `nb_epoch` argument in `fit` has been renamed `epochs`.\n"
     ]
    },
    {
     "name": "stdout",
     "output_type": "stream",
     "text": [
      "Train on 17120 samples, validate on 4280 samples\n",
      "Epoch 1/25\n",
      "17120/17120 [==============================] - 20s 1ms/step - loss: 1.2070 - acc: 0.7743 - val_loss: 0.7092 - val_acc: 0.7738\n",
      "Epoch 2/25\n",
      "17120/17120 [==============================] - 19s 1ms/step - loss: 0.5079 - acc: 0.8023 - val_loss: 0.5013 - val_acc: 0.8014\n",
      "Epoch 3/25\n",
      "17120/17120 [==============================] - 19s 1ms/step - loss: 0.4005 - acc: 0.8288 - val_loss: 0.4501 - val_acc: 0.8133\n",
      "Epoch 4/25\n",
      "17120/17120 [==============================] - 19s 1ms/step - loss: 0.3604 - acc: 0.8433 - val_loss: 0.4325 - val_acc: 0.8227\n",
      "Epoch 5/25\n",
      "17120/17120 [==============================] - 19s 1ms/step - loss: 0.3342 - acc: 0.8539 - val_loss: 0.4196 - val_acc: 0.8264\n",
      "Epoch 6/25\n",
      "17120/17120 [==============================] - 20s 1ms/step - loss: 0.3151 - acc: 0.8608 - val_loss: 0.4161 - val_acc: 0.8278\n",
      "Epoch 7/25\n",
      "17120/17120 [==============================] - 19s 1ms/step - loss: 0.2990 - acc: 0.8695 - val_loss: 0.4071 - val_acc: 0.8334\n",
      "Epoch 8/25\n",
      "17120/17120 [==============================] - 19s 1ms/step - loss: 0.2861 - acc: 0.8759 - val_loss: 0.4047 - val_acc: 0.8350\n",
      "Epoch 9/25\n",
      "17120/17120 [==============================] - 19s 1ms/step - loss: 0.2755 - acc: 0.8798 - val_loss: 0.4021 - val_acc: 0.8386\n",
      "Epoch 10/25\n",
      "17120/17120 [==============================] - 19s 1ms/step - loss: 0.2656 - acc: 0.8866 - val_loss: 0.4001 - val_acc: 0.8414\n",
      "Epoch 11/25\n",
      "17120/17120 [==============================] - 19s 1ms/step - loss: 0.2572 - acc: 0.8895 - val_loss: 0.4004 - val_acc: 0.8374\n",
      "Epoch 12/25\n",
      "17120/17120 [==============================] - 19s 1ms/step - loss: 0.2500 - acc: 0.8933 - val_loss: 0.3959 - val_acc: 0.8390\n",
      "Epoch 13/25\n",
      "17120/17120 [==============================] - 19s 1ms/step - loss: 0.2429 - acc: 0.8983 - val_loss: 0.3971 - val_acc: 0.8421\n",
      "Epoch 14/25\n",
      "17120/17120 [==============================] - 19s 1ms/step - loss: 0.2373 - acc: 0.9018 - val_loss: 0.3918 - val_acc: 0.8435\n",
      "Epoch 15/25\n",
      "17120/17120 [==============================] - 19s 1ms/step - loss: 0.2309 - acc: 0.9053 - val_loss: 0.3947 - val_acc: 0.8435\n",
      "Epoch 16/25\n",
      "17120/17120 [==============================] - 19s 1ms/step - loss: 0.2264 - acc: 0.9070 - val_loss: 0.3905 - val_acc: 0.8439\n",
      "Epoch 17/25\n",
      "17120/17120 [==============================] - 19s 1ms/step - loss: 0.2214 - acc: 0.9095 - val_loss: 0.3953 - val_acc: 0.8460\n",
      "Epoch 18/25\n",
      "17120/17120 [==============================] - 19s 1ms/step - loss: 0.2167 - acc: 0.9128 - val_loss: 0.3938 - val_acc: 0.8470\n",
      "Epoch 19/25\n",
      "17120/17120 [==============================] - 20s 1ms/step - loss: 0.2131 - acc: 0.9147 - val_loss: 0.3920 - val_acc: 0.8456\n",
      "Epoch 20/25\n",
      "17120/17120 [==============================] - 20s 1ms/step - loss: 0.2089 - acc: 0.9171 - val_loss: 0.3919 - val_acc: 0.8481\n",
      "Epoch 21/25\n",
      "17120/17120 [==============================] - 20s 1ms/step - loss: 0.2052 - acc: 0.9202 - val_loss: 0.3950 - val_acc: 0.8479\n",
      "Epoch 22/25\n",
      "17120/17120 [==============================] - 20s 1ms/step - loss: 0.2021 - acc: 0.9213 - val_loss: 0.3972 - val_acc: 0.8486\n",
      "Epoch 23/25\n",
      "17120/17120 [==============================] - 20s 1ms/step - loss: 0.1989 - acc: 0.9228 - val_loss: 0.3950 - val_acc: 0.8470\n",
      "Epoch 24/25\n",
      "17120/17120 [==============================] - 20s 1ms/step - loss: 0.1955 - acc: 0.9249 - val_loss: 0.3943 - val_acc: 0.8491\n",
      "Epoch 25/25\n",
      "17120/17120 [==============================] - 19s 1ms/step - loss: 0.1931 - acc: 0.9264 - val_loss: 0.3969 - val_acc: 0.8491\n",
      "Training time finished.\n",
      "25 epochs in 0:08:09.017070\n"
     ]
    }
   ],
   "source": [
    "# Model variables\n",
    "n_hidden = 50\n",
    "gradient_clipping_norm = 1.25\n",
    "batch_size = 64\n",
    "n_epoch = 25\n",
    "\n",
    "def exponent_neg_manhattan_distance(left, right):\n",
    "    ''' Helper function for the similarity estimate of the LSTMs outputs'''\n",
    "    import keras.backend as K\n",
    "    return K.exp(-K.sum(K.abs(left-right), axis=1, keepdims=True))\n",
    "\n",
    "# The visible layer\n",
    "left_input = Input(shape=(max_seq_length,), dtype='int32')\n",
    "right_input = Input(shape=(max_seq_length,), dtype='int32')\n",
    "\n",
    "embedding_layer = Embedding(len(embeddings), embedding_dim, weights=[embeddings], input_length=max_seq_length, trainable=False)\n",
    "\n",
    "# Embedded version of the inputs\n",
    "encoded_left = embedding_layer(left_input)\n",
    "encoded_right = embedding_layer(right_input)\n",
    "\n",
    "# Since this is a siamese network, both sides share the same LSTM\n",
    "shared_lstm = LSTM(n_hidden)\n",
    "\n",
    "left_output = shared_lstm(encoded_left)\n",
    "right_output = shared_lstm(encoded_right)\n",
    "\n",
    "# Calculates the distance as defined by the MaLSTM model\n",
    "# malstm_distance = merge(mode=lambda x: exponent_neg_manhattan_distance(x[0], x[1]), output_shape=lambda x: (x[0][0], 1))([left_output, right_output])\n",
    "malstm_distance = Lambda(function=lambda x: exponent_neg_manhattan_distance(x[0], x[1]),output_shape=lambda x: (x[0][0], 1))([left_output, right_output])\n",
    "# Pack it all up into a model\n",
    "malstm = Model([left_input, right_input], [malstm_distance])\n",
    "\n",
    "# Adadelta optimizer, with gradient clipping by norm\n",
    "optimizer = Adadelta(clipnorm=gradient_clipping_norm)\n",
    "\n",
    "malstm.compile(loss='binary_crossentropy', optimizer=optimizer, metrics=['accuracy'])\n",
    "\n",
    "# Start training\n",
    "training_start_time = time()\n",
    "\n",
    "malstm_trained = malstm.fit([X_train['left'], X_train['right']], Y_train, batch_size=batch_size, nb_epoch=n_epoch,\n",
    "                            validation_data=([X_validation['left'], X_validation['right']], Y_validation))\n",
    "\n",
    "print(\"Training time finished.\\n{} epochs in {}\".format(n_epoch, datetime.timedelta(seconds=time()-training_start_time)))"
   ]
  },
  {
   "cell_type": "code",
   "execution_count": 41,
   "metadata": {},
   "outputs": [
    {
     "data": {
      "image/png": "[encoded data removed]",
      "text/plain": [
       "<Figure size 432x288 with 1 Axes>"
      ]
     },
     "metadata": {},
     "output_type": "display_data"
    },
    {
     "data": {
      "image/png": "[encoded data removed]",
      "text/plain": [
       "<Figure size 432x288 with 1 Axes>"
      ]
     },
     "metadata": {},
     "output_type": "display_data"
    }
   ],
   "source": [
    "# Plot accuracy\n",
    "plt.plot(malstm_trained.history['acc'])\n",
    "plt.plot(malstm_trained.history['val_acc'])\n",
    "plt.title('Model Accuracy')\n",
    "plt.ylabel('Accuracy')\n",
    "plt.xlabel('Epoch')\n",
    "plt.legend(['Train', 'Validation'], loc='upper left')\n",
    "plt.show()\n",
    "\n",
    "# Plot loss\n",
    "plt.plot(malstm_trained.history['loss'])\n",
    "plt.plot(malstm_trained.history['val_loss'])\n",
    "plt.title('Model Loss')\n",
    "plt.ylabel('Loss')\n",
    "plt.xlabel('Epoch')\n",
    "plt.legend(['Train', 'Validation'], loc='upper right')\n",
    "plt.show()"
   ]
  },
  {
   "cell_type": "code",
   "execution_count": 28,
   "metadata": {
    "scrolled": true
   },
   "outputs": [
    {
     "ename": "NameError",
     "evalue": "global name 'exponent_neg_manhattan_distance' is not defined",
     "output_type": "error",
     "traceback": [
      "\u001b[0;31m---------------------------------------------------------------------------\u001b[0m",
      "\u001b[0;31mNameError\u001b[0m                                 Traceback (most recent call last)",
      "\u001b[0;32m<ipython-input-28-238f9105b6d4>\u001b[0m in \u001b[0;36m<module>\u001b[0;34m()\u001b[0m\n\u001b[1;32m      4\u001b[0m \u001b[0;34m\u001b[0m\u001b[0m\n\u001b[1;32m      5\u001b[0m \u001b[0;34m\u001b[0m\u001b[0m\n\u001b[0;32m----> 6\u001b[0;31m \u001b[0mmalstm\u001b[0m \u001b[0;34m=\u001b[0m \u001b[0mload_model\u001b[0m\u001b[0;34m(\u001b[0m\u001b[0;34m'malstm_ben_.h5'\u001b[0m\u001b[0;34m)\u001b[0m\u001b[0;34m\u001b[0m\u001b[0m\n\u001b[0m",
      "\u001b[0;32m/home/zhen/anaconda2/lib/python2.7/site-packages/keras/engine/saving.pyc\u001b[0m in \u001b[0;36mload_model\u001b[0;34m(filepath, custom_objects, compile)\u001b[0m\n\u001b[1;32m    259\u001b[0m             \u001b[0;32mraise\u001b[0m \u001b[0mValueError\u001b[0m\u001b[0;34m(\u001b[0m\u001b[0;34m'No model found in config file.'\u001b[0m\u001b[0;34m)\u001b[0m\u001b[0;34m\u001b[0m\u001b[0m\n\u001b[1;32m    260\u001b[0m         \u001b[0mmodel_config\u001b[0m \u001b[0;34m=\u001b[0m \u001b[0mjson\u001b[0m\u001b[0;34m.\u001b[0m\u001b[0mloads\u001b[0m\u001b[0;34m(\u001b[0m\u001b[0mmodel_config\u001b[0m\u001b[0;34m.\u001b[0m\u001b[0mdecode\u001b[0m\u001b[0;34m(\u001b[0m\u001b[0;34m'utf-8'\u001b[0m\u001b[0;34m)\u001b[0m\u001b[0;34m)\u001b[0m\u001b[0;34m\u001b[0m\u001b[0m\n\u001b[0;32m--> 261\u001b[0;31m         \u001b[0mmodel\u001b[0m \u001b[0;34m=\u001b[0m \u001b[0mmodel_from_config\u001b[0m\u001b[0;34m(\u001b[0m\u001b[0mmodel_config\u001b[0m\u001b[0;34m,\u001b[0m \u001b[0mcustom_objects\u001b[0m\u001b[0;34m=\u001b[0m\u001b[0mcustom_objects\u001b[0m\u001b[0;34m)\u001b[0m\u001b[0;34m\u001b[0m\u001b[0m\n\u001b[0m\u001b[1;32m    262\u001b[0m \u001b[0;34m\u001b[0m\u001b[0m\n\u001b[1;32m    263\u001b[0m         \u001b[0;31m# set weights\u001b[0m\u001b[0;34m\u001b[0m\u001b[0;34m\u001b[0m\u001b[0m\n",
      "\u001b[0;32m/home/zhen/anaconda2/lib/python2.7/site-packages/keras/engine/saving.pyc\u001b[0m in \u001b[0;36mmodel_from_config\u001b[0;34m(config, custom_objects)\u001b[0m\n\u001b[1;32m    333\u001b[0m                         '`Sequential.from_config(config)`?')\n\u001b[1;32m    334\u001b[0m     \u001b[0;32mfrom\u001b[0m \u001b[0;34m.\u001b[0m\u001b[0;34m.\u001b[0m\u001b[0mlayers\u001b[0m \u001b[0;32mimport\u001b[0m \u001b[0mdeserialize\u001b[0m\u001b[0;34m\u001b[0m\u001b[0m\n\u001b[0;32m--> 335\u001b[0;31m     \u001b[0;32mreturn\u001b[0m \u001b[0mdeserialize\u001b[0m\u001b[0;34m(\u001b[0m\u001b[0mconfig\u001b[0m\u001b[0;34m,\u001b[0m \u001b[0mcustom_objects\u001b[0m\u001b[0;34m=\u001b[0m\u001b[0mcustom_objects\u001b[0m\u001b[0;34m)\u001b[0m\u001b[0;34m\u001b[0m\u001b[0m\n\u001b[0m\u001b[1;32m    336\u001b[0m \u001b[0;34m\u001b[0m\u001b[0m\n\u001b[1;32m    337\u001b[0m \u001b[0;34m\u001b[0m\u001b[0m\n",
      "\u001b[0;32m/home/zhen/anaconda2/lib/python2.7/site-packages/keras/layers/__init__.pyc\u001b[0m in \u001b[0;36mdeserialize\u001b[0;34m(config, custom_objects)\u001b[0m\n\u001b[1;32m     53\u001b[0m                                     \u001b[0mmodule_objects\u001b[0m\u001b[0;34m=\u001b[0m\u001b[0mglobs\u001b[0m\u001b[0;34m,\u001b[0m\u001b[0;34m\u001b[0m\u001b[0m\n\u001b[1;32m     54\u001b[0m                                     \u001b[0mcustom_objects\u001b[0m\u001b[0;34m=\u001b[0m\u001b[0mcustom_objects\u001b[0m\u001b[0;34m,\u001b[0m\u001b[0;34m\u001b[0m\u001b[0m\n\u001b[0;32m---> 55\u001b[0;31m                                     printable_module_name='layer')\n\u001b[0m",
      "\u001b[0;32m/home/zhen/anaconda2/lib/python2.7/site-packages/keras/utils/generic_utils.pyc\u001b[0m in \u001b[0;36mdeserialize_keras_object\u001b[0;34m(identifier, module_objects, custom_objects, printable_module_name)\u001b[0m\n\u001b[1;32m    143\u001b[0m                     \u001b[0mconfig\u001b[0m\u001b[0;34m[\u001b[0m\u001b[0;34m'config'\u001b[0m\u001b[0;34m]\u001b[0m\u001b[0;34m,\u001b[0m\u001b[0;34m\u001b[0m\u001b[0m\n\u001b[1;32m    144\u001b[0m                     custom_objects=dict(list(_GLOBAL_CUSTOM_OBJECTS.items()) +\n\u001b[0;32m--> 145\u001b[0;31m                                         list(custom_objects.items())))\n\u001b[0m\u001b[1;32m    146\u001b[0m             \u001b[0;32mwith\u001b[0m \u001b[0mCustomObjectScope\u001b[0m\u001b[0;34m(\u001b[0m\u001b[0mcustom_objects\u001b[0m\u001b[0;34m)\u001b[0m\u001b[0;34m:\u001b[0m\u001b[0;34m\u001b[0m\u001b[0m\n\u001b[1;32m    147\u001b[0m                 \u001b[0;32mreturn\u001b[0m \u001b[0mcls\u001b[0m\u001b[0;34m.\u001b[0m\u001b[0mfrom_config\u001b[0m\u001b[0;34m(\u001b[0m\u001b[0mconfig\u001b[0m\u001b[0;34m[\u001b[0m\u001b[0;34m'config'\u001b[0m\u001b[0;34m]\u001b[0m\u001b[0;34m)\u001b[0m\u001b[0;34m\u001b[0m\u001b[0m\n",
      "\u001b[0;32m/home/zhen/anaconda2/lib/python2.7/site-packages/keras/engine/network.pyc\u001b[0m in \u001b[0;36mfrom_config\u001b[0;34m(cls, config, custom_objects)\u001b[0m\n\u001b[1;32m   1044\u001b[0m                 \u001b[0;32mif\u001b[0m \u001b[0mlayer\u001b[0m \u001b[0;32min\u001b[0m \u001b[0munprocessed_nodes\u001b[0m\u001b[0;34m:\u001b[0m\u001b[0;34m\u001b[0m\u001b[0m\n\u001b[1;32m   1045\u001b[0m                     \u001b[0;32mfor\u001b[0m \u001b[0mnode_data\u001b[0m \u001b[0;32min\u001b[0m \u001b[0munprocessed_nodes\u001b[0m\u001b[0;34m.\u001b[0m\u001b[0mpop\u001b[0m\u001b[0;34m(\u001b[0m\u001b[0mlayer\u001b[0m\u001b[0;34m)\u001b[0m\u001b[0;34m:\u001b[0m\u001b[0;34m\u001b[0m\u001b[0m\n\u001b[0;32m-> 1046\u001b[0;31m                         \u001b[0mprocess_node\u001b[0m\u001b[0;34m(\u001b[0m\u001b[0mlayer\u001b[0m\u001b[0;34m,\u001b[0m \u001b[0mnode_data\u001b[0m\u001b[0;34m)\u001b[0m\u001b[0;34m\u001b[0m\u001b[0m\n\u001b[0m\u001b[1;32m   1047\u001b[0m \u001b[0;34m\u001b[0m\u001b[0m\n\u001b[1;32m   1048\u001b[0m         \u001b[0mname\u001b[0m \u001b[0;34m=\u001b[0m \u001b[0mconfig\u001b[0m\u001b[0;34m.\u001b[0m\u001b[0mget\u001b[0m\u001b[0;34m(\u001b[0m\u001b[0;34m'name'\u001b[0m\u001b[0;34m)\u001b[0m\u001b[0;34m\u001b[0m\u001b[0m\n",
      "\u001b[0;32m/home/zhen/anaconda2/lib/python2.7/site-packages/keras/engine/network.pyc\u001b[0m in \u001b[0;36mprocess_node\u001b[0;34m(layer, node_data)\u001b[0m\n\u001b[1;32m   1003\u001b[0m                     \u001b[0mlayer\u001b[0m\u001b[0;34m(\u001b[0m\u001b[0minput_tensors\u001b[0m\u001b[0;34m[\u001b[0m\u001b[0;36m0\u001b[0m\u001b[0;34m]\u001b[0m\u001b[0;34m,\u001b[0m \u001b[0;34m**\u001b[0m\u001b[0mkwargs\u001b[0m\u001b[0;34m)\u001b[0m\u001b[0;34m\u001b[0m\u001b[0m\n\u001b[1;32m   1004\u001b[0m                 \u001b[0;32melse\u001b[0m\u001b[0;34m:\u001b[0m\u001b[0;34m\u001b[0m\u001b[0m\n\u001b[0;32m-> 1005\u001b[0;31m                     \u001b[0mlayer\u001b[0m\u001b[0;34m(\u001b[0m\u001b[0minput_tensors\u001b[0m\u001b[0;34m,\u001b[0m \u001b[0;34m**\u001b[0m\u001b[0mkwargs\u001b[0m\u001b[0;34m)\u001b[0m\u001b[0;34m\u001b[0m\u001b[0m\n\u001b[0m\u001b[1;32m   1006\u001b[0m \u001b[0;34m\u001b[0m\u001b[0m\n\u001b[1;32m   1007\u001b[0m         \u001b[0;32mdef\u001b[0m \u001b[0mprocess_layer\u001b[0m\u001b[0;34m(\u001b[0m\u001b[0mlayer_data\u001b[0m\u001b[0;34m)\u001b[0m\u001b[0;34m:\u001b[0m\u001b[0;34m\u001b[0m\u001b[0m\n",
      "\u001b[0;32m/home/zhen/anaconda2/lib/python2.7/site-packages/keras/engine/base_layer.pyc\u001b[0m in \u001b[0;36m__call__\u001b[0;34m(self, inputs, **kwargs)\u001b[0m\n\u001b[1;32m    458\u001b[0m             \u001b[0;31m# Actually call the layer,\u001b[0m\u001b[0;34m\u001b[0m\u001b[0;34m\u001b[0m\u001b[0m\n\u001b[1;32m    459\u001b[0m             \u001b[0;31m# collecting output(s), mask(s), and shape(s).\u001b[0m\u001b[0;34m\u001b[0m\u001b[0;34m\u001b[0m\u001b[0m\n\u001b[0;32m--> 460\u001b[0;31m             \u001b[0moutput\u001b[0m \u001b[0;34m=\u001b[0m \u001b[0mself\u001b[0m\u001b[0;34m.\u001b[0m\u001b[0mcall\u001b[0m\u001b[0;34m(\u001b[0m\u001b[0minputs\u001b[0m\u001b[0;34m,\u001b[0m \u001b[0;34m**\u001b[0m\u001b[0mkwargs\u001b[0m\u001b[0;34m)\u001b[0m\u001b[0;34m\u001b[0m\u001b[0m\n\u001b[0m\u001b[1;32m    461\u001b[0m             \u001b[0moutput_mask\u001b[0m \u001b[0;34m=\u001b[0m \u001b[0mself\u001b[0m\u001b[0;34m.\u001b[0m\u001b[0mcompute_mask\u001b[0m\u001b[0;34m(\u001b[0m\u001b[0minputs\u001b[0m\u001b[0;34m,\u001b[0m \u001b[0mprevious_mask\u001b[0m\u001b[0;34m)\u001b[0m\u001b[0;34m\u001b[0m\u001b[0m\n\u001b[1;32m    462\u001b[0m \u001b[0;34m\u001b[0m\u001b[0m\n",
      "\u001b[0;32m/home/zhen/anaconda2/lib/python2.7/site-packages/keras/layers/core.pyc\u001b[0m in \u001b[0;36mcall\u001b[0;34m(self, inputs, mask)\u001b[0m\n\u001b[1;32m    691\u001b[0m         \u001b[0;32mif\u001b[0m \u001b[0mhas_arg\u001b[0m\u001b[0;34m(\u001b[0m\u001b[0mself\u001b[0m\u001b[0;34m.\u001b[0m\u001b[0mfunction\u001b[0m\u001b[0;34m,\u001b[0m \u001b[0;34m'mask'\u001b[0m\u001b[0;34m)\u001b[0m\u001b[0;34m:\u001b[0m\u001b[0;34m\u001b[0m\u001b[0m\n\u001b[1;32m    692\u001b[0m             \u001b[0marguments\u001b[0m\u001b[0;34m[\u001b[0m\u001b[0;34m'mask'\u001b[0m\u001b[0;34m]\u001b[0m \u001b[0;34m=\u001b[0m \u001b[0mmask\u001b[0m\u001b[0;34m\u001b[0m\u001b[0m\n\u001b[0;32m--> 693\u001b[0;31m         \u001b[0;32mreturn\u001b[0m \u001b[0mself\u001b[0m\u001b[0;34m.\u001b[0m\u001b[0mfunction\u001b[0m\u001b[0;34m(\u001b[0m\u001b[0minputs\u001b[0m\u001b[0;34m,\u001b[0m \u001b[0;34m**\u001b[0m\u001b[0marguments\u001b[0m\u001b[0;34m)\u001b[0m\u001b[0;34m\u001b[0m\u001b[0m\n\u001b[0m\u001b[1;32m    694\u001b[0m \u001b[0;34m\u001b[0m\u001b[0m\n\u001b[1;32m    695\u001b[0m     \u001b[0;32mdef\u001b[0m \u001b[0mcompute_mask\u001b[0m\u001b[0;34m(\u001b[0m\u001b[0mself\u001b[0m\u001b[0;34m,\u001b[0m \u001b[0minputs\u001b[0m\u001b[0;34m,\u001b[0m \u001b[0mmask\u001b[0m\u001b[0;34m=\u001b[0m\u001b[0mNone\u001b[0m\u001b[0;34m)\u001b[0m\u001b[0;34m:\u001b[0m\u001b[0;34m\u001b[0m\u001b[0m\n",
      "\u001b[0;32m/home/zhen/anaconda2/lib/python2.7/site-packages/keras/layers/core.pyc\u001b[0m in \u001b[0;36m<lambda>\u001b[0;34m(x)\u001b[0m\n\u001b[1;32m     28\u001b[0m \u001b[0;31m# Calculates the distance as defined by the MaLSTM model\u001b[0m\u001b[0;34m\u001b[0m\u001b[0;34m\u001b[0m\u001b[0m\n\u001b[1;32m     29\u001b[0m \u001b[0;31m# malstm_distance = merge(mode=lambda x: exponent_neg_manhattan_distance(x[0], x[1]), output_shape=lambda x: (x[0][0], 1))([left_output, right_output])\u001b[0m\u001b[0;34m\u001b[0m\u001b[0;34m\u001b[0m\u001b[0m\n\u001b[0;32m---> 30\u001b[0;31m \u001b[0mmalstm_distance\u001b[0m \u001b[0;34m=\u001b[0m \u001b[0mLambda\u001b[0m\u001b[0;34m(\u001b[0m\u001b[0mfunction\u001b[0m\u001b[0;34m=\u001b[0m\u001b[0;32mlambda\u001b[0m \u001b[0mx\u001b[0m\u001b[0;34m:\u001b[0m \u001b[0mexponent_neg_manhattan_distance\u001b[0m\u001b[0;34m(\u001b[0m\u001b[0mx\u001b[0m\u001b[0;34m[\u001b[0m\u001b[0;36m0\u001b[0m\u001b[0;34m]\u001b[0m\u001b[0;34m,\u001b[0m \u001b[0mx\u001b[0m\u001b[0;34m[\u001b[0m\u001b[0;36m1\u001b[0m\u001b[0;34m]\u001b[0m\u001b[0;34m)\u001b[0m\u001b[0;34m,\u001b[0m\u001b[0moutput_shape\u001b[0m\u001b[0;34m=\u001b[0m\u001b[0;32mlambda\u001b[0m \u001b[0mx\u001b[0m\u001b[0;34m:\u001b[0m \u001b[0;34m(\u001b[0m\u001b[0mx\u001b[0m\u001b[0;34m[\u001b[0m\u001b[0;36m0\u001b[0m\u001b[0;34m]\u001b[0m\u001b[0;34m[\u001b[0m\u001b[0;36m0\u001b[0m\u001b[0;34m]\u001b[0m\u001b[0;34m,\u001b[0m \u001b[0;36m1\u001b[0m\u001b[0;34m)\u001b[0m\u001b[0;34m)\u001b[0m\u001b[0;34m(\u001b[0m\u001b[0;34m[\u001b[0m\u001b[0mleft_output\u001b[0m\u001b[0;34m,\u001b[0m \u001b[0mright_output\u001b[0m\u001b[0;34m]\u001b[0m\u001b[0;34m)\u001b[0m\u001b[0;34m\u001b[0m\u001b[0m\n\u001b[0m\u001b[1;32m     31\u001b[0m \u001b[0;31m# Pack it all up into a model\u001b[0m\u001b[0;34m\u001b[0m\u001b[0;34m\u001b[0m\u001b[0m\n\u001b[1;32m     32\u001b[0m \u001b[0mmalstm\u001b[0m \u001b[0;34m=\u001b[0m \u001b[0mModel\u001b[0m\u001b[0;34m(\u001b[0m\u001b[0;34m[\u001b[0m\u001b[0mleft_input\u001b[0m\u001b[0;34m,\u001b[0m \u001b[0mright_input\u001b[0m\u001b[0;34m]\u001b[0m\u001b[0;34m,\u001b[0m \u001b[0;34m[\u001b[0m\u001b[0mmalstm_distance\u001b[0m\u001b[0;34m]\u001b[0m\u001b[0;34m)\u001b[0m\u001b[0;34m\u001b[0m\u001b[0m\n",
      "\u001b[0;31mNameError\u001b[0m: global name 'exponent_neg_manhattan_distance' is not defined"
     ]
    }
   ],
   "source": [
    "# malstm.save('malstm_ben_.h5')\n",
    "\n",
    "\n",
    "\n",
    "\n",
    "malstm = load_model('malstm_ben_.h5')\n"
   ]
  },
  {
   "cell_type": "code",
   "execution_count": 57,
   "metadata": {},
   "outputs": [
    {
     "data": {
      "text/plain": [
       "array([[1.1949352e-01],\n",
       "       [1.6562460e-04],\n",
       "       [2.0684968e-01],\n",
       "       ...,\n",
       "       [9.9813825e-01],\n",
       "       [1.0053417e-01],\n",
       "       [9.7737700e-01]], dtype=float32)"
      ]
     },
     "execution_count": 57,
     "metadata": {},
     "output_type": "execute_result"
    }
   ],
   "source": [
    "y_test=malstm.predict([X_test['left'], X_test['right']],batch_size=1024*4)\n",
    "y_test"
   ]
  },
  {
   "cell_type": "code",
   "execution_count": 58,
   "metadata": {
    "scrolled": true
   },
   "outputs": [
    {
     "data": {
      "text/html": [
       "<div>\n",
       "<style scoped>\n",
       "    .dataframe tbody tr th:only-of-type {\n",
       "        vertical-align: middle;\n",
       "    }\n",
       "\n",
       "    .dataframe tbody tr th {\n",
       "        vertical-align: top;\n",
       "    }\n",
       "\n",
       "    .dataframe thead th {\n",
       "        text-align: right;\n",
       "    }\n",
       "</style>\n",
       "<table border=\"1\" class=\"dataframe\">\n",
       "  <thead>\n",
       "    <tr style=\"text-align: right;\">\n",
       "      <th></th>\n",
       "      <th>0</th>\n",
       "    </tr>\n",
       "  </thead>\n",
       "  <tbody>\n",
       "    <tr>\n",
       "      <th>0</th>\n",
       "      <td>0.119494</td>\n",
       "    </tr>\n",
       "    <tr>\n",
       "      <th>1</th>\n",
       "      <td>0.000166</td>\n",
       "    </tr>\n",
       "    <tr>\n",
       "      <th>2</th>\n",
       "      <td>0.206850</td>\n",
       "    </tr>\n",
       "    <tr>\n",
       "      <th>3</th>\n",
       "      <td>0.216759</td>\n",
       "    </tr>\n",
       "    <tr>\n",
       "      <th>4</th>\n",
       "      <td>0.293885</td>\n",
       "    </tr>\n",
       "    <tr>\n",
       "      <th>5</th>\n",
       "      <td>0.605638</td>\n",
       "    </tr>\n",
       "    <tr>\n",
       "      <th>6</th>\n",
       "      <td>0.291713</td>\n",
       "    </tr>\n",
       "    <tr>\n",
       "      <th>7</th>\n",
       "      <td>0.487006</td>\n",
       "    </tr>\n",
       "    <tr>\n",
       "      <th>8</th>\n",
       "      <td>0.117768</td>\n",
       "    </tr>\n",
       "    <tr>\n",
       "      <th>9</th>\n",
       "      <td>0.605391</td>\n",
       "    </tr>\n",
       "    <tr>\n",
       "      <th>10</th>\n",
       "      <td>0.197993</td>\n",
       "    </tr>\n",
       "    <tr>\n",
       "      <th>11</th>\n",
       "      <td>0.350706</td>\n",
       "    </tr>\n",
       "    <tr>\n",
       "      <th>12</th>\n",
       "      <td>0.250854</td>\n",
       "    </tr>\n",
       "    <tr>\n",
       "      <th>13</th>\n",
       "      <td>0.000611</td>\n",
       "    </tr>\n",
       "    <tr>\n",
       "      <th>14</th>\n",
       "      <td>0.002551</td>\n",
       "    </tr>\n",
       "    <tr>\n",
       "      <th>15</th>\n",
       "      <td>0.416797</td>\n",
       "    </tr>\n",
       "    <tr>\n",
       "      <th>16</th>\n",
       "      <td>0.006211</td>\n",
       "    </tr>\n",
       "    <tr>\n",
       "      <th>17</th>\n",
       "      <td>0.126227</td>\n",
       "    </tr>\n",
       "    <tr>\n",
       "      <th>18</th>\n",
       "      <td>0.000192</td>\n",
       "    </tr>\n",
       "    <tr>\n",
       "      <th>19</th>\n",
       "      <td>0.007098</td>\n",
       "    </tr>\n",
       "    <tr>\n",
       "      <th>20</th>\n",
       "      <td>0.000102</td>\n",
       "    </tr>\n",
       "    <tr>\n",
       "      <th>21</th>\n",
       "      <td>0.268581</td>\n",
       "    </tr>\n",
       "    <tr>\n",
       "      <th>22</th>\n",
       "      <td>0.120452</td>\n",
       "    </tr>\n",
       "    <tr>\n",
       "      <th>23</th>\n",
       "      <td>0.063284</td>\n",
       "    </tr>\n",
       "    <tr>\n",
       "      <th>24</th>\n",
       "      <td>0.344237</td>\n",
       "    </tr>\n",
       "    <tr>\n",
       "      <th>25</th>\n",
       "      <td>0.080535</td>\n",
       "    </tr>\n",
       "    <tr>\n",
       "      <th>26</th>\n",
       "      <td>0.575615</td>\n",
       "    </tr>\n",
       "    <tr>\n",
       "      <th>27</th>\n",
       "      <td>0.227283</td>\n",
       "    </tr>\n",
       "    <tr>\n",
       "      <th>28</th>\n",
       "      <td>0.298071</td>\n",
       "    </tr>\n",
       "    <tr>\n",
       "      <th>29</th>\n",
       "      <td>0.001968</td>\n",
       "    </tr>\n",
       "    <tr>\n",
       "      <th>...</th>\n",
       "      <td>...</td>\n",
       "    </tr>\n",
       "    <tr>\n",
       "      <th>4970</th>\n",
       "      <td>0.018850</td>\n",
       "    </tr>\n",
       "    <tr>\n",
       "      <th>4971</th>\n",
       "      <td>0.221660</td>\n",
       "    </tr>\n",
       "    <tr>\n",
       "      <th>4972</th>\n",
       "      <td>0.089427</td>\n",
       "    </tr>\n",
       "    <tr>\n",
       "      <th>4973</th>\n",
       "      <td>0.940587</td>\n",
       "    </tr>\n",
       "    <tr>\n",
       "      <th>4974</th>\n",
       "      <td>0.087985</td>\n",
       "    </tr>\n",
       "    <tr>\n",
       "      <th>4975</th>\n",
       "      <td>0.473704</td>\n",
       "    </tr>\n",
       "    <tr>\n",
       "      <th>4976</th>\n",
       "      <td>0.000065</td>\n",
       "    </tr>\n",
       "    <tr>\n",
       "      <th>4977</th>\n",
       "      <td>0.004925</td>\n",
       "    </tr>\n",
       "    <tr>\n",
       "      <th>4978</th>\n",
       "      <td>0.128762</td>\n",
       "    </tr>\n",
       "    <tr>\n",
       "      <th>4979</th>\n",
       "      <td>0.226978</td>\n",
       "    </tr>\n",
       "    <tr>\n",
       "      <th>4980</th>\n",
       "      <td>0.055301</td>\n",
       "    </tr>\n",
       "    <tr>\n",
       "      <th>4981</th>\n",
       "      <td>0.522670</td>\n",
       "    </tr>\n",
       "    <tr>\n",
       "      <th>4982</th>\n",
       "      <td>0.185784</td>\n",
       "    </tr>\n",
       "    <tr>\n",
       "      <th>4983</th>\n",
       "      <td>0.003302</td>\n",
       "    </tr>\n",
       "    <tr>\n",
       "      <th>4984</th>\n",
       "      <td>0.432823</td>\n",
       "    </tr>\n",
       "    <tr>\n",
       "      <th>4985</th>\n",
       "      <td>0.000532</td>\n",
       "    </tr>\n",
       "    <tr>\n",
       "      <th>4986</th>\n",
       "      <td>0.338995</td>\n",
       "    </tr>\n",
       "    <tr>\n",
       "      <th>4987</th>\n",
       "      <td>0.059602</td>\n",
       "    </tr>\n",
       "    <tr>\n",
       "      <th>4988</th>\n",
       "      <td>0.000056</td>\n",
       "    </tr>\n",
       "    <tr>\n",
       "      <th>4989</th>\n",
       "      <td>0.035681</td>\n",
       "    </tr>\n",
       "    <tr>\n",
       "      <th>4990</th>\n",
       "      <td>0.068378</td>\n",
       "    </tr>\n",
       "    <tr>\n",
       "      <th>4991</th>\n",
       "      <td>0.015228</td>\n",
       "    </tr>\n",
       "    <tr>\n",
       "      <th>4992</th>\n",
       "      <td>0.126022</td>\n",
       "    </tr>\n",
       "    <tr>\n",
       "      <th>4993</th>\n",
       "      <td>0.014769</td>\n",
       "    </tr>\n",
       "    <tr>\n",
       "      <th>4994</th>\n",
       "      <td>0.330948</td>\n",
       "    </tr>\n",
       "    <tr>\n",
       "      <th>4995</th>\n",
       "      <td>0.144412</td>\n",
       "    </tr>\n",
       "    <tr>\n",
       "      <th>4996</th>\n",
       "      <td>0.852045</td>\n",
       "    </tr>\n",
       "    <tr>\n",
       "      <th>4997</th>\n",
       "      <td>0.998138</td>\n",
       "    </tr>\n",
       "    <tr>\n",
       "      <th>4998</th>\n",
       "      <td>0.100534</td>\n",
       "    </tr>\n",
       "    <tr>\n",
       "      <th>4999</th>\n",
       "      <td>0.977377</td>\n",
       "    </tr>\n",
       "  </tbody>\n",
       "</table>\n",
       "<p>5000 rows × 1 columns</p>\n",
       "</div>"
      ],
      "text/plain": [
       "             0\n",
       "0     0.119494\n",
       "1     0.000166\n",
       "2     0.206850\n",
       "3     0.216759\n",
       "4     0.293885\n",
       "5     0.605638\n",
       "6     0.291713\n",
       "7     0.487006\n",
       "8     0.117768\n",
       "9     0.605391\n",
       "10    0.197993\n",
       "11    0.350706\n",
       "12    0.250854\n",
       "13    0.000611\n",
       "14    0.002551\n",
       "15    0.416797\n",
       "16    0.006211\n",
       "17    0.126227\n",
       "18    0.000192\n",
       "19    0.007098\n",
       "20    0.000102\n",
       "21    0.268581\n",
       "22    0.120452\n",
       "23    0.063284\n",
       "24    0.344237\n",
       "25    0.080535\n",
       "26    0.575615\n",
       "27    0.227283\n",
       "28    0.298071\n",
       "29    0.001968\n",
       "...        ...\n",
       "4970  0.018850\n",
       "4971  0.221660\n",
       "4972  0.089427\n",
       "4973  0.940587\n",
       "4974  0.087985\n",
       "4975  0.473704\n",
       "4976  0.000065\n",
       "4977  0.004925\n",
       "4978  0.128762\n",
       "4979  0.226978\n",
       "4980  0.055301\n",
       "4981  0.522670\n",
       "4982  0.185784\n",
       "4983  0.003302\n",
       "4984  0.432823\n",
       "4985  0.000532\n",
       "4986  0.338995\n",
       "4987  0.059602\n",
       "4988  0.000056\n",
       "4989  0.035681\n",
       "4990  0.068378\n",
       "4991  0.015228\n",
       "4992  0.126022\n",
       "4993  0.014769\n",
       "4994  0.330948\n",
       "4995  0.144412\n",
       "4996  0.852045\n",
       "4997  0.998138\n",
       "4998  0.100534\n",
       "4999  0.977377\n",
       "\n",
       "[5000 rows x 1 columns]"
      ]
     },
     "execution_count": 58,
     "metadata": {},
     "output_type": "execute_result"
    }
   ],
   "source": [
    "sub=pd.DataFrame(y_test)\n",
    "\n",
    "sub"
   ]
  },
  {
   "cell_type": "code",
   "execution_count": 59,
   "metadata": {},
   "outputs": [],
   "source": [
    "sub.to_csv('sub.txt',header=False,index=False)"
   ]
  },
  {
   "cell_type": "code",
   "execution_count": null,
   "metadata": {},
   "outputs": [],
   "source": []
  },
  {
   "cell_type": "code",
   "execution_count": null,
   "metadata": {},
   "outputs": [],
   "source": []
  },
  {
   "cell_type": "code",
   "execution_count": 55,
   "metadata": {},
   "outputs": [
    {
     "data": {
      "text/plain": [
       "(4280, 1)"
      ]
     },
     "execution_count": 55,
     "metadata": {},
     "output_type": "execute_result"
    }
   ],
   "source": [
    "Y_pred=malstm.predict([X_validation['left'], X_validation['right']],batch_size=1024*4)\n",
    "Y_pred.shape"
   ]
  },
  {
   "cell_type": "code",
   "execution_count": 56,
   "metadata": {},
   "outputs": [
    {
     "name": "stdout",
     "output_type": "stream",
     "text": [
      "0.5917638\n"
     ]
    }
   ],
   "source": [
    "from keras.losses import binary_crossentropy\n",
    "from keras import backend as K\n",
    "y_true = K.variable(Y_validation)\n",
    "y_pred = K.variable(Y_pred[:,0])\n",
    "error = K.eval(binary_crossentropy(y_true, y_pred))\n",
    "\n",
    "print(error)"
   ]
  },
  {
   "cell_type": "code",
   "execution_count": null,
   "metadata": {},
   "outputs": [],
   "source": []
  }
 ],
 "metadata": {
  "kernelspec": {
   "display_name": "Python 2",
   "language": "python",
   "name": "python2"
  },
  "language_info": {
   "codemirror_mode": {
    "name": "ipython",
    "version": 2
   },
   "file_extension": ".py",
   "mimetype": "text/x-python",
   "name": "python",
   "nbconvert_exporter": "python",
   "pygments_lexer": "ipython2",
   "version": "2.7.15"
  }
 },
 "nbformat": 4,
 "nbformat_minor": 2
}
